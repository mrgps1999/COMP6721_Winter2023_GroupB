{
 "cells": [
  {
   "cell_type": "code",
   "execution_count": 3,
   "metadata": {},
   "outputs": [],
   "source": [
    "import tqdm\n",
    "import os\n"
   ]
  },
  {
   "cell_type": "code",
   "execution_count": 3,
   "metadata": {},
   "outputs": [],
   "source": [
    "path = r\"C:\\Users\\Shree\\Desktop\\AI_PROJECT\\Animal Classification\\dataset\\Animal\""
   ]
  },
  {
   "cell_type": "code",
   "execution_count": null,
   "metadata": {},
   "outputs": [],
   "source": [
    "target_transform = transforms.Compose([transforms.ToTensor()])\n",
    "train_transform = transforms.Compose([rgb2ycrcb(), transforms.ToTensor(), transforms.Normalize(mean=(0.53, 0.43, 0.59,), std=(0.18, 0.03, 0.04))])\n"
   ]
  },
  {
   "cell_type": "code",
   "execution_count": 4,
   "metadata": {},
   "outputs": [],
   "source": [
    "import cv2\n",
    "import shutil "
   ]
  },
  {
   "cell_type": "code",
   "execution_count": 1,
   "metadata": {},
   "outputs": [
    {
     "data": {
      "text/plain": [
       "([], [])"
      ]
     },
     "execution_count": 1,
     "metadata": {},
     "output_type": "execute_result"
    }
   ],
   "source": [
    "import os\n",
    "def make_dataset(dir):\n",
    "    items =[]\n",
    "    labels = []\n",
    "    for rootdir,dirs,files in os.walk(dir):\n",
    "        for subdir in dirs:\n",
    "            count_remove = 0\n",
    "            for files1 in os.listdir(os.path.join(rootdir,subdir)):\n",
    "                image_path = os.path.join(os.path.join(rootdir,subdir),files1)\n",
    "                img = cv2.imread(image_path)\n",
    "                dest_dir = r'C:\\Users\\Shree\\Desktop\\AI_PROJECT\\Animal Classification\\dataset\\anima'\n",
    "                dest_dir1 = os.path.join(os.path.join(dest_dir,subdir),files1)\n",
    "                #if not dest_dir1:\n",
    "                    #os.os.mkdir(dest_dir1)\n",
    "                #print(dest_dir1)\n",
    "                if img is not None:\n",
    "                    if(count_remove < 439):\n",
    "                        h,w,c = img.shape\n",
    "                        if(h>224 and w>224):\n",
    "                            count_remove = count_remove +1            \n",
    "                            #os.remove(image_path)\n",
    "                            #shutil.copy(image_path, dest_dir1)\n",
    "                    else:\n",
    "                        break\n",
    "                else:\n",
    "                    continue\n",
    "            print(count_remove)\n",
    "    return items,labels\n",
    "    \n",
    "make_dataset(r'C:\\Users\\Shree\\Desktop\\AI_PROJECT\\Animal Classification\\dataset\\anima')    "
   ]
  },
  {
   "cell_type": "code",
   "execution_count": 7,
   "metadata": {},
   "outputs": [
    {
     "name": "stdout",
     "output_type": "stream",
     "text": [
      "Collecting python_splitter\n",
      "  Downloading python_splitter-0.0.3-py3-none-any.whl (5.2 kB)\n",
      "Requirement already satisfied: numpy in c:\\users\\shree\\anaconda3\\lib\\site-packages (from python_splitter) (1.18.1)\n",
      "Installing collected packages: python-splitter\n",
      "Successfully installed python-splitter-0.0.3\n",
      "Note: you may need to restart the kernel to use updated packages.\n"
     ]
    }
   ],
   "source": [
    "pip install python_splitter "
   ]
  },
  {
   "cell_type": "code",
   "execution_count": 11,
   "metadata": {},
   "outputs": [
    {
     "name": "stdout",
     "output_type": "stream",
     "text": [
      "✅Checking SOURCE directory...\n",
      "0.8 0.1 0.1\n",
      "✅Checking percentage validation...\n",
      "✅Making required directories...\n",
      "✅Shuffling data...\n",
      "✅Getting ready for copying files...\n",
      "\n",
      "-------------Successfully splitted !!!--------------- \n"
     ]
    }
   ],
   "source": [
    "import python_splitter\n",
    "python_splitter.split_from_folder(r\"C:\\Users\\Shree\\Desktop\\AI_PROJECT\\Animal Classification\\dataset\\anima\\Train\", train=0.8, test=0.1, val=0.1)"
   ]
  },
  {
   "cell_type": "code",
   "execution_count": 6,
   "metadata": {},
   "outputs": [
    {
     "name": "stdout",
     "output_type": "stream",
     "text": [
      "anima\n",
      "C:\\Users\\Shree\\Desktop\\AI_PROJECT\\Animal Classification\\dataset\\anima\\Train\n",
      "Animal Image Dataset\n",
      "C:\\Users\\Shree\\Desktop\\AI_PROJECT\\Animal Classification\\dataset\\Animal Image Dataset\\butterfly\n",
      "kagglecatsanddogs_3367a\n",
      "C:\\Users\\Shree\\Desktop\\AI_PROJECT\\Animal Classification\\dataset\\kagglecatsanddogs_3367a\\PetImages\n",
      "Train\n",
      "C:\\Users\\Shree\\Desktop\\AI_PROJECT\\Animal Classification\\dataset\\anima\\Train\\cat\n",
      "cat\n",
      "C:\\Users\\Shree\\Desktop\\AI_PROJECT\\Animal Classification\\dataset\\anima\\Train\\cat\\im0.jpg\n",
      "cow\n",
      "C:\\Users\\Shree\\Desktop\\AI_PROJECT\\Animal Classification\\dataset\\anima\\Train\\cow\\im1227.jpg\n",
      "dog\n",
      "C:\\Users\\Shree\\Desktop\\AI_PROJECT\\Animal Classification\\dataset\\anima\\Train\\dog\\im3093.jpg\n",
      "elephant\n",
      "C:\\Users\\Shree\\Desktop\\AI_PROJECT\\Animal Classification\\dataset\\anima\\Train\\elephant\\im1.jpg\n",
      "horse\n",
      "C:\\Users\\Shree\\Desktop\\AI_PROJECT\\Animal Classification\\dataset\\anima\\Train\\horse\\im10000.jpg\n",
      "butterfly\n",
      "C:\\Users\\Shree\\Desktop\\AI_PROJECT\\Animal Classification\\dataset\\Animal Image Dataset\\butterfly\\ea36b00620f2033ed1584d05fb1d4e9fe777ead218ac104497f5c97faee9bdba_640.jpg\n",
      "cats\n",
      "C:\\Users\\Shree\\Desktop\\AI_PROJECT\\Animal Classification\\dataset\\Animal Image Dataset\\cats\\106.jpeg\n",
      "cow\n",
      "C:\\Users\\Shree\\Desktop\\AI_PROJECT\\Animal Classification\\dataset\\Animal Image Dataset\\cow\\OIP---lAIbDlHKmejDpqrXq6vAAAAA.jpeg\n",
      "dogs\n",
      "C:\\Users\\Shree\\Desktop\\AI_PROJECT\\Animal Classification\\dataset\\Animal Image Dataset\\dogs\\dogs_00007.jpg\n",
      "elephant\n",
      "C:\\Users\\Shree\\Desktop\\AI_PROJECT\\Animal Classification\\dataset\\Animal Image Dataset\\elephant\\ea36b10928f5023ed1584d05fb1d4e9fe777ead218ac104497f5c978a4efb4bb_640.jpg\n",
      "hen\n",
      "C:\\Users\\Shree\\Desktop\\AI_PROJECT\\Animal Classification\\dataset\\Animal Image Dataset\\hen\\1000.jpeg\n",
      "horse\n",
      "C:\\Users\\Shree\\Desktop\\AI_PROJECT\\Animal Classification\\dataset\\Animal Image Dataset\\horse\\OIP--5YhTv41EQikJq2qdaMQ0AHaF8.jpeg\n",
      "monkey\n",
      "C:\\Users\\Shree\\Desktop\\AI_PROJECT\\Animal Classification\\dataset\\Animal Image Dataset\\monkey\\aryan-singh-kHUMpmwlRp8-unsplash.jpg\n",
      "panda\n",
      "C:\\Users\\Shree\\Desktop\\AI_PROJECT\\Animal Classification\\dataset\\Animal Image Dataset\\panda\\aa104b7d0ba9b2e35f61ff36a8fcee8e45b2dd19.jpg\n",
      "sheep\n",
      "C:\\Users\\Shree\\Desktop\\AI_PROJECT\\Animal Classification\\dataset\\Animal Image Dataset\\sheep\\e132b30e20f01c22d2524518b7444f92e37fe5d404b0144390f8c078a1ebb2_640.jpg\n",
      "spider\n",
      "C:\\Users\\Shree\\Desktop\\AI_PROJECT\\Animal Classification\\dataset\\Animal Image Dataset\\spider\\e830b5072df2063ed1584d05fb1d4e9fe777ead218ac104497f5c97ca5ecb3b9_640.jpg\n",
      "squirrel\n",
      "C:\\Users\\Shree\\Desktop\\AI_PROJECT\\Animal Classification\\dataset\\Animal Image Dataset\\squirrel\\OIP--9CxJkCleiNXywWpQhEUDAHaE7.jpeg\n",
      "Train\n",
      "PetImages\n",
      "C:\\Users\\Shree\\Desktop\\AI_PROJECT\\Animal Classification\\dataset\\kagglecatsanddogs_3367a\\PetImages\\Cat\n",
      "Train\n",
      "C:\\Users\\Shree\\Desktop\\AI_PROJECT\\Animal Classification\\dataset\\kagglecatsanddogs_3367a\\Train\\Cat\n",
      "Cat\n",
      "C:\\Users\\Shree\\Desktop\\AI_PROJECT\\Animal Classification\\dataset\\kagglecatsanddogs_3367a\\PetImages\\Cat\\0.jpg\n",
      "Dog\n",
      "C:\\Users\\Shree\\Desktop\\AI_PROJECT\\Animal Classification\\dataset\\kagglecatsanddogs_3367a\\PetImages\\Dog\\0.jpg\n",
      "Cat\n",
      "C:\\Users\\Shree\\Desktop\\AI_PROJECT\\Animal Classification\\dataset\\kagglecatsanddogs_3367a\\Train\\Cat\\0.jpg\n",
      "Dog\n",
      "C:\\Users\\Shree\\Desktop\\AI_PROJECT\\Animal Classification\\dataset\\kagglecatsanddogs_3367a\\Train\\Dog\\0.jpg\n"
     ]
    }
   ],
   "source": [
    "dir = r'C:\\Users\\Shree\\Desktop\\AI_PROJECT\\Animal Classification\\dataset'\n",
    "for rootdir,dirs,files in os.walk(dir):\n",
    "    for subdir in dirs:\n",
    "        print(subdir)\n",
    "        for files1 in os.listdir(os.path.join(rootdir,subdir)):\n",
    "            image_path = os.path.join(os.path.join(rootdir,subdir),files1) \n",
    "            print(image_path)\n",
    "            break\n",
    "    \n",
    "            "
   ]
  },
  {
   "cell_type": "code",
   "execution_count": null,
   "metadata": {},
   "outputs": [],
   "source": []
  },
  {
   "cell_type": "code",
   "execution_count": 7,
   "metadata": {},
   "outputs": [],
   "source": []
  },
  {
   "cell_type": "code",
   "execution_count": null,
   "metadata": {},
   "outputs": [],
   "source": []
  }
 ],
 "metadata": {
  "kernelspec": {
   "display_name": "Python 3",
   "language": "python",
   "name": "python3"
  },
  "language_info": {
   "codemirror_mode": {
    "name": "ipython",
    "version": 3
   },
   "file_extension": ".py",
   "mimetype": "text/x-python",
   "name": "python",
   "nbconvert_exporter": "python",
   "pygments_lexer": "ipython3",
   "version": "3.7.6"
  }
 },
 "nbformat": 4,
 "nbformat_minor": 4
}
